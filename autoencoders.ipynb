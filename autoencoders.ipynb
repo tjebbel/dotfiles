{
  "cells": [
    {
      "cell_type": "markdown",
      "metadata": {
        "id": "view-in-github",
        "colab_type": "text"
      },
      "source": [
        "<a href=\"https://colab.research.google.com/github/tjebbel/dotfiles/blob/master/autoencoders.ipynb\" target=\"_parent\"><img src=\"https://colab.research.google.com/assets/colab-badge.svg\" alt=\"Open In Colab\"/></a>"
      ]
    },
    {
      "cell_type": "markdown",
      "metadata": {
        "id": "7-gFhxZJXFQB"
      },
      "source": [
        "# Autoencoders"
      ]
    },
    {
      "cell_type": "markdown",
      "metadata": {
        "id": "1o7N9Dz4XFQE"
      },
      "source": [
        "🎯 **Exercise objectives**\n",
        "- Discover ***autoencoders***\n",
        "- Get a deeper understanding of CNNs\n",
        "\n",
        "<hr>\n",
        "\n",
        "👉 There exists a very particular architecture in Deep Learning called **`Autoencoders`**. Autoencoders are Neural Network architectures trained to return **outputs that are as similar as possible to the original inputs fed to them**. Why would we do that?  \n",
        "\n",
        "Before answering the question _\"why\"_, let's answer the question _\"how\"_.\n",
        "\n",
        "👩🏻‍🏫 <u>***How does an autoencoder work ?***</u>\n",
        "\n",
        "There are two parts in an autoencoder: the  **`encoder`** and the **`decoder`**.\n",
        "\n",
        "1. In the encoder, we will make the information flow through different dense layers with a decreasing number of neurons. It will create a **`bottleneck`** where the information is compressed.\n",
        "\n",
        "2. In the decoder, we will try to recreate the original data based on the compressed data.\n",
        "\n",
        "🔥 <u>***Why is it powerful or useful?***</u>\n",
        "\n",
        "If it works well, it means two important things:\n",
        "\n",
        "* ✅ We can afford to **compress our dataset** and use a compressed version of it when fitting another Neural Network! \n",
        "\n",
        "* ✅ The **information contained in the bottleneck** - i.e. the data compressed in a low-dimensional layer - **accurately captures the patterns of our dataset** and the autoencoder is able to decode the compressed information!\n",
        "\n",
        "🌠 <u>**Applications:**</u>\n",
        "- Image compression\n",
        "- Denoising (cf. Google Pixel phones...)\n",
        "- Image generation!\n",
        "\n",
        "\n",
        "<img src='https://github.com/lewagon/data-images/blob/master/DL/autoencoder.png?raw=true'>"
      ]
    },
    {
      "cell_type": "markdown",
      "metadata": {
        "id": "r8yfo6_IXFQG"
      },
      "source": [
        "## (0) The MNIST Dataset\n",
        "\n",
        "In this notebook, we will train an auto-encoder to work on 28x28 grey images from the MNIST dataset, available in Keras. Run the cells below"
      ]
    },
    {
      "cell_type": "code",
      "execution_count": 2,
      "metadata": {
        "colab": {
          "base_uri": "https://localhost:8080/"
        },
        "id": "VUYt_nD4XFQI",
        "outputId": "8b327ccf-7acd-403e-e6ab-048f4bc1c8ed"
      },
      "outputs": [
        {
          "output_type": "stream",
          "name": "stdout",
          "text": [
            "Downloading data from https://storage.googleapis.com/tensorflow/tf-keras-datasets/mnist.npz\n",
            "11490434/11490434 [==============================] - 0s 0us/step\n",
            "(60000, 28, 28)\n",
            "(10000, 28, 28)\n"
          ]
        }
      ],
      "source": [
        "from tensorflow.keras.datasets import mnist\n",
        "\n",
        "(images_train, labels_train), (images_test, labels_test) = mnist.load_data()\n",
        "print(images_train.shape)\n",
        "print(images_test.shape)"
      ]
    },
    {
      "cell_type": "code",
      "execution_count": 3,
      "metadata": {
        "id": "_1YNz5czXFQJ"
      },
      "outputs": [],
      "source": [
        "# Add a channels for the colors and normalize data\n",
        "X_train = images_train.reshape((60000, 28, 28, 1)) / 255.\n",
        "X_test = images_test.reshape((10000, 28, 28, 1)) / 255."
      ]
    },
    {
      "cell_type": "code",
      "execution_count": 4,
      "metadata": {
        "colab": {
          "base_uri": "https://localhost:8080/",
          "height": 113
        },
        "id": "TcAyXLlLXFQK",
        "outputId": "e3ee19f7-8495-435c-d491-ed16ba387986"
      },
      "outputs": [
        {
          "output_type": "display_data",
          "data": {
            "text/plain": [
              "<Figure size 1440x288 with 10 Axes>"
            ],
            "image/png": "[encoded data removed]"
          },
          "metadata": {
            "needs_background": "light"
          }
        }
      ],
      "source": [
        "# Plot some images\n",
        "import matplotlib.pyplot as plt\n",
        "\n",
        "f, axs = plt.subplots(1, 10, figsize=(20, 4))\n",
        "for i, ax in enumerate(axs):\n",
        "    ax.axis('off')\n",
        "    ax.imshow(X_train[i].reshape(28, 28), cmap='Greys')\n",
        "    \n",
        "plt.show()"
      ]
    },
    {
      "cell_type": "markdown",
      "metadata": {
        "id": "8WwVRMKJXFQM"
      },
      "source": [
        "## (1) The encoder"
      ]
    },
    {
      "cell_type": "markdown",
      "metadata": {
        "id": "cmFKf2taXFQN"
      },
      "source": [
        "🎁 First, we built the \"Encoder\" part for you.\n",
        "\n",
        "👉  Notice how similar it looks compared to a Convolutional Classifier with **latent_dimension** neurons at the end. However, we using the \"tanh\" activation function in the final dense layer instead of \"relu\"."
      ]
    },
    {
      "cell_type": "code",
      "execution_count": 5,
      "metadata": {
        "id": "DGvBmIlzXFQO"
      },
      "outputs": [],
      "source": [
        "from tensorflow.keras import Sequential\n",
        "from tensorflow.keras.layers import Conv2D, MaxPooling2D, Flatten, Dense\n",
        "\n",
        "def build_encoder(latent_dimension):\n",
        "    '''returns an encoder model, of output_shape equals to latent_dimension'''\n",
        "    encoder = Sequential()\n",
        "    \n",
        "    encoder.add(Conv2D(8, (2,2), input_shape=(28, 28, 1), activation='relu'))\n",
        "    encoder.add(MaxPooling2D(2))\n",
        "\n",
        "    encoder.add(Conv2D(16, (2, 2), activation='relu'))\n",
        "    encoder.add(MaxPooling2D(2))\n",
        "\n",
        "    encoder.add(Conv2D(32, (2, 2), activation='relu'))\n",
        "    encoder.add(MaxPooling2D(2))     \n",
        "\n",
        "    encoder.add(Flatten())\n",
        "    encoder.add(Dense(latent_dimension, activation='tanh'))\n",
        "    \n",
        "    return encoder"
      ]
    },
    {
      "cell_type": "markdown",
      "metadata": {
        "id": "7DSApn7NXFQQ"
      },
      "source": [
        "❓ **Question: building an encoder** ❓ \n",
        "\n",
        "Build your encoder with **`latent_dimension = 2`** and look at the number of parameters."
      ]
    },
    {
      "cell_type": "code",
      "execution_count": 6,
      "metadata": {
        "tags": [
          "challengify"
        ],
        "colab": {
          "base_uri": "https://localhost:8080/"
        },
        "id": "SU96hlu9XFQQ",
        "outputId": "54412a6a-004b-4faf-cf14-81e21af2cc0d"
      },
      "outputs": [
        {
          "output_type": "stream",
          "name": "stdout",
          "text": [
            "Model: \"sequential\"\n",
            "_________________________________________________________________\n",
            " Layer (type)                Output Shape              Param #   \n",
            "=================================================================\n",
            " conv2d (Conv2D)             (None, 27, 27, 8)         40        \n",
            "                                                                 \n",
            " max_pooling2d (MaxPooling2D  (None, 13, 13, 8)        0         \n",
            " )                                                               \n",
            "                                                                 \n",
            " conv2d_1 (Conv2D)           (None, 12, 12, 16)        528       \n",
            "                                                                 \n",
            " max_pooling2d_1 (MaxPooling  (None, 6, 6, 16)         0         \n",
            " 2D)                                                             \n",
            "                                                                 \n",
            " conv2d_2 (Conv2D)           (None, 5, 5, 32)          2080      \n",
            "                                                                 \n",
            " max_pooling2d_2 (MaxPooling  (None, 2, 2, 32)         0         \n",
            " 2D)                                                             \n",
            "                                                                 \n",
            " flatten (Flatten)           (None, 128)               0         \n",
            "                                                                 \n",
            " dense (Dense)               (None, 2)                 258       \n",
            "                                                                 \n",
            "=================================================================\n",
            "Total params: 2,906\n",
            "Trainable params: 2,906\n",
            "Non-trainable params: 0\n",
            "_________________________________________________________________\n"
          ]
        }
      ],
      "source": [
        "encoder = build_encoder(2)\n",
        "encoder.summary()"
      ]
    },
    {
      "cell_type": "markdown",
      "metadata": {
        "id": "JBvSHKBSXFQS"
      },
      "source": [
        "## (2) Decoder"
      ]
    },
    {
      "cell_type": "markdown",
      "metadata": {
        "id": "ZIQa5C0DXFQT"
      },
      "source": [
        "It's your turn to build the decoder this time!\n",
        "\n",
        "We need to build a 🔥 **`reversed CNN` 🔥** that \n",
        "* takes a dense layer as input,\n",
        "* and outputs an image of shape $ (28,28,1) $ similar to our MNIST images. \n",
        "\n",
        "📚 For this purpose, we will use a new layer called <a href=\"https://www.tensorflow.org/api_docs/python/tf/keras/layers/Conv2DTranspose\">**`Conv2DTranspose`**</a> 📚\n",
        "    \n",
        "The name of this layer speaks for itself: it performs the opposite of a convolution operation!\n",
        "\n",
        "💡 We will follow this strategy:\n",
        "* Start by reshaping the Dense Input Layer into an Image of shape $(7,7,..)$\n",
        "* Then apply the `Conv2DTranspose` operation with ***strides = 2*** to double the output shape to $(14,14,..)$\n",
        "* then add another Conv2DTranpose layer on top of the first one to make it $(28,28,1)$.\n",
        "\n",
        "<hr>\n",
        "\n",
        "❓ **Question: the architecture of a decoder** ❓ \n",
        "\n",
        "\n",
        "Define a **`decoding architecture`** in the method below as follows:\n",
        "- a *Dense* layer with:\n",
        "    - $7 \\times 7 \\times 8$ neurons, \n",
        "    - *input_shape* = (latent_dimension, )\n",
        "    - *tanh* activation function. \n",
        "- a *Reshape* layer that reshapes to $(7, 7, 8)$ tensors\n",
        "- a *Conv2DTranspose* with:\n",
        "    - $8$ filters, \n",
        "    - $(2,2)$ kernels, \n",
        "    - strides of $2$, \n",
        "    - padding *same* \n",
        "    - _relu_ activation function\n",
        "- a second Conv2DTranspose layer with:\n",
        "    - $1$ filter,\n",
        "    - $(2,2)$ kernels,\n",
        "    - strides of $2$,\n",
        "    - padding _same_,\n",
        "    - _relu_ activation function"
      ]
    },
    {
      "cell_type": "code",
      "execution_count": 7,
      "metadata": {
        "id": "oSmoco1CXFQU"
      },
      "outputs": [],
      "source": [
        "from tensorflow.keras.layers import Reshape, Conv2DTranspose\n",
        "\n",
        "def build_decoder(latent_dimension):\n",
        "  decoder = Sequential()\n",
        "  decoder.add(Dense(7*7*8, activation='tanh', input_shape=(latent_dimension,)))\n",
        "  decoder.add(Reshape((7, 7, 8)))  # no batch axis here\n",
        "  decoder.add(Conv2DTranspose(8, (2, 2), strides=2, padding='same', activation='relu'))\n",
        "\n",
        "  decoder.add(Conv2DTranspose(1, (2, 2), strides=2, padding='same', activation='relu'))\n",
        "  return decoder"
      ]
    },
    {
      "cell_type": "markdown",
      "metadata": {
        "id": "KlmmGHlGXFQV"
      },
      "source": [
        "❓ **Question: buiding a decoder** ❓ \n",
        "\n",
        "Build your decoder with **`latent_dimension = 2`** and check that it outputs images of same shape than the encoder input"
      ]
    },
    {
      "cell_type": "code",
      "execution_count": 8,
      "metadata": {
        "tags": [
          "challengify"
        ],
        "colab": {
          "base_uri": "https://localhost:8080/"
        },
        "id": "BQyGrwGrXFQV",
        "outputId": "1e6d74c6-62ce-404c-be62-c458d59f907b"
      },
      "outputs": [
        {
          "output_type": "stream",
          "name": "stdout",
          "text": [
            "Model: \"sequential_1\"\n",
            "_________________________________________________________________\n",
            " Layer (type)                Output Shape              Param #   \n",
            "=================================================================\n",
            " dense_1 (Dense)             (None, 392)               1176      \n",
            "                                                                 \n",
            " reshape (Reshape)           (None, 7, 7, 8)           0         \n",
            "                                                                 \n",
            " conv2d_transpose (Conv2DTra  (None, 14, 14, 8)        264       \n",
            " nspose)                                                         \n",
            "                                                                 \n",
            " conv2d_transpose_1 (Conv2DT  (None, 28, 28, 1)        33        \n",
            " ranspose)                                                       \n",
            "                                                                 \n",
            "=================================================================\n",
            "Total params: 1,473\n",
            "Trainable params: 1,473\n",
            "Non-trainable params: 0\n",
            "_________________________________________________________________\n"
          ]
        }
      ],
      "source": [
        "decoder = build_decoder(2)\n",
        "decoder.summary()"
      ]
    },
    {
      "cell_type": "markdown",
      "metadata": {
        "id": "vLJ07Zh3XFQW"
      },
      "source": [
        "## (3) Auto-Encoder"
      ]
    },
    {
      "cell_type": "markdown",
      "metadata": {
        "id": "edN3Qo9dXFQX"
      },
      "source": [
        "🎉 We can now **concatenate** both **`the encoder and the decoder`** thanks to the **`Model`** class in Keras, using the **`Functional API`**."
      ]
    },
    {
      "cell_type": "code",
      "execution_count": 9,
      "metadata": {
        "id": "qWq8u60pXFQX"
      },
      "outputs": [],
      "source": [
        "from tensorflow.keras import Model\n",
        "from tensorflow.keras.layers import Input\n",
        "\n",
        "def build_autoencoder(encoder, decoder):\n",
        "    inp = Input((28, 28,1))\n",
        "    encoded = encoder(inp)\n",
        "    decoded = decoder(encoded)\n",
        "    autoencoder = Model(inp, decoded)\n",
        "    return autoencoder"
      ]
    },
    {
      "cell_type": "markdown",
      "metadata": {
        "id": "t08Dq3_JXFQY"
      },
      "source": [
        "❓ **Questions** ❓ \n",
        "\n",
        "* Try to understand syntax above 👆 \n",
        "* Build your autoencoder\n",
        "* Have a look at the number of parameters"
      ]
    },
    {
      "cell_type": "code",
      "execution_count": 10,
      "metadata": {
        "tags": [
          "challengify"
        ],
        "colab": {
          "base_uri": "https://localhost:8080/"
        },
        "id": "oIl7SbwLXFQY",
        "outputId": "5c7cdc9d-6bd0-4f92-8d37-ceddb9b22c13"
      },
      "outputs": [
        {
          "output_type": "stream",
          "name": "stdout",
          "text": [
            "Model: \"model\"\n",
            "_________________________________________________________________\n",
            " Layer (type)                Output Shape              Param #   \n",
            "=================================================================\n",
            " input_1 (InputLayer)        [(None, 28, 28, 1)]       0         \n",
            "                                                                 \n",
            " sequential (Sequential)     (None, 2)                 2906      \n",
            "                                                                 \n",
            " sequential_1 (Sequential)   (None, 28, 28, 1)         1473      \n",
            "                                                                 \n",
            "=================================================================\n",
            "Total params: 4,379\n",
            "Trainable params: 4,379\n",
            "Non-trainable params: 0\n",
            "_________________________________________________________________\n"
          ]
        }
      ],
      "source": [
        "autoencoder = build_autoencoder(encoder, decoder)\n",
        "autoencoder.summary()"
      ]
    },
    {
      "cell_type": "markdown",
      "metadata": {
        "id": "MBiiipNYXFQZ"
      },
      "source": [
        "❓ **Question: Compiling an autoencoder** ❓ \n",
        "\n",
        "Define a method which compiles your model. Pick an appropriate loss.\n",
        "\n",
        "<u><i>Think carefully:</i></u> 🤔 On which mathematical object are we going to compare *predictions* and the *ground truth* for the computation of the loss function and the metrics?\n",
        "\n",
        "\n",
        "<details>\n",
        "    <summary><i>Answer</i></summary>\n",
        "\n",
        "It should compare two images (Black and White in our case), pixel-by-pixel!\n",
        "    \n",
        "The MSE loss seems to be an appropriate loss function for pixel-by-pixel error minimization.\n",
        "</details>"
      ]
    },
    {
      "cell_type": "code",
      "execution_count": 11,
      "metadata": {
        "tags": [
          "challengify"
        ],
        "id": "VbfEBaYdXFQa"
      },
      "outputs": [],
      "source": [
        "def compile_autoencoder(autoencoder):\n",
        "    autoencoder.compile(loss='mse',\n",
        "                  optimizer='adam')"
      ]
    },
    {
      "cell_type": "code",
      "source": [
        "compile_autoencoder(autoencoder)\n",
        "autoencoder.fit(X_train, X_train, epochs = 20, batch_size = 32)"
      ],
      "metadata": {
        "colab": {
          "base_uri": "https://localhost:8080/"
        },
        "id": "HcoSICQ8i0_Q",
        "outputId": "350d4040-8553-4411-abb2-b73f99ddb2f3"
      },
      "execution_count": 12,
      "outputs": [
        {
          "output_type": "stream",
          "name": "stdout",
          "text": [
            "Epoch 1/20\n",
            "1875/1875 [==============================] - 31s 16ms/step - loss: 0.0600\n",
            "Epoch 2/20\n",
            "1875/1875 [==============================] - 29s 16ms/step - loss: 0.0534\n",
            "Epoch 3/20\n",
            "1875/1875 [==============================] - 32s 17ms/step - loss: 0.0526\n",
            "Epoch 4/20\n",
            "1875/1875 [==============================] - 30s 16ms/step - loss: 0.0522\n",
            "Epoch 5/20\n",
            "1875/1875 [==============================] - 31s 16ms/step - loss: 0.0520\n",
            "Epoch 6/20\n",
            "1875/1875 [==============================] - 29s 16ms/step - loss: 0.0518\n",
            "Epoch 7/20\n",
            "1875/1875 [==============================] - 30s 16ms/step - loss: 0.0517\n",
            "Epoch 8/20\n",
            "1875/1875 [==============================] - 31s 17ms/step - loss: 0.0516\n",
            "Epoch 9/20\n",
            "1875/1875 [==============================] - 30s 16ms/step - loss: 0.0514\n",
            "Epoch 10/20\n",
            "1875/1875 [==============================] - 31s 16ms/step - loss: 0.0513\n",
            "Epoch 11/20\n",
            "1875/1875 [==============================] - 30s 16ms/step - loss: 0.0512\n",
            "Epoch 12/20\n",
            "1875/1875 [==============================] - 31s 17ms/step - loss: 0.0511\n",
            "Epoch 13/20\n",
            "1875/1875 [==============================] - 29s 16ms/step - loss: 0.0511\n",
            "Epoch 14/20\n",
            "1875/1875 [==============================] - 31s 16ms/step - loss: 0.0510\n",
            "Epoch 15/20\n",
            "1875/1875 [==============================] - 29s 16ms/step - loss: 0.0509\n",
            "Epoch 16/20\n",
            "1875/1875 [==============================] - 32s 17ms/step - loss: 0.0509\n",
            "Epoch 17/20\n",
            "1875/1875 [==============================] - 30s 16ms/step - loss: 0.0508\n",
            "Epoch 18/20\n",
            "1875/1875 [==============================] - 30s 16ms/step - loss: 0.0507\n",
            "Epoch 19/20\n",
            "1875/1875 [==============================] - 30s 16ms/step - loss: 0.0506\n",
            "Epoch 20/20\n",
            "1875/1875 [==============================] - 31s 17ms/step - loss: 0.0506\n"
          ]
        },
        {
          "output_type": "execute_result",
          "data": {
            "text/plain": [
              "<keras.callbacks.History at 0x7f20193b4190>"
            ]
          },
          "metadata": {},
          "execution_count": 12
        }
      ]
    },
    {
      "cell_type": "markdown",
      "metadata": {
        "id": "12dANodBXFQb"
      },
      "source": [
        "❓ **Question: Training an autoencoder** ❓  \n",
        "\n",
        "* Compile your model and fit it with `batch_size = 32` and `epochs = 20`. \n",
        "* What is the label `y_train` in this case?\n",
        "\n",
        "<i>Note:</i> Don't waste your time fighting overfitting in this challenge, you will have time to care about this during the project weeks :)"
      ]
    },
    {
      "cell_type": "code",
      "execution_count": 13,
      "metadata": {
        "tags": [
          "challengify"
        ],
        "colab": {
          "base_uri": "https://localhost:8080/",
          "height": 422
        },
        "id": "FkCUBIYBXFQc",
        "outputId": "67b64e69-ae2b-46b3-f2a5-527d02ff2bcb"
      },
      "outputs": [
        {
          "output_type": "display_data",
          "data": {
            "text/plain": [
              "<Figure size 288x144 with 2 Axes>"
            ],
            "image/png": "[encoded data removed]"
          },
          "metadata": {
            "needs_background": "light"
          }
        },
        {
          "output_type": "display_data",
          "data": {
            "text/plain": [
              "<Figure size 288x144 with 2 Axes>"
            ],
            "image/png": "[encoded data removed]"
          },
          "metadata": {
            "needs_background": "light"
          }
        },
        {
          "output_type": "display_data",
          "data": {
            "text/plain": [
              "<Figure size 288x144 with 2 Axes>"
            ],
            "image/png": "[encoded data removed]"
          },
          "metadata": {
            "needs_background": "light"
          }
        }
      ],
      "source": [
        "prediction = autoencoder.predict(X_train, verbose=0, batch_size=100)# you can now display an image to see it is reconstructed well\n",
        "\n",
        "for i in range(3):\n",
        "    fig, (ax1, ax2) = plt.subplots(1, 2, figsize=(4,2))\n",
        "    ax1.imshow(prediction[i].reshape(28,28), cmap = 'Greys')\n",
        "    ax2.imshow(X_train[i].reshape(28,28), cmap = 'Greys')\n",
        "    plt.show()"
      ]
    },
    {
      "cell_type": "markdown",
      "metadata": {
        "id": "jlZc_QiRXFQd"
      },
      "source": [
        "❓ **Question: Encoding the dataset** ❓\n",
        "\n",
        "* Using only the encoder part of the network, encode your dataset and save it under `X_encoded` . \n",
        "    * Each image is now represented by two values (that correspond to the dimension of the latent space, of the bottleneck; aka the `latent_dimension`. "
      ]
    },
    {
      "cell_type": "code",
      "execution_count": 14,
      "metadata": {
        "tags": [
          "challengify"
        ],
        "colab": {
          "base_uri": "https://localhost:8080/"
        },
        "id": "YzRq1Sf5XFQd",
        "outputId": "855e04b1-af34-4481-9f8e-06d712c9e46b"
      },
      "outputs": [
        {
          "output_type": "stream",
          "name": "stdout",
          "text": [
            "1875/1875 [==============================] - 10s 6ms/step\n"
          ]
        }
      ],
      "source": [
        "X_encoded = encoder.predict(X_train, verbose=1)"
      ]
    },
    {
      "cell_type": "markdown",
      "metadata": {
        "id": "AL0-ImofXFQe"
      },
      "source": [
        "🤔 Where are we after running the encoder?\n",
        "\n",
        "* Each image was compressed into a 2D space. \n",
        "* Each of these handwritten digit have a given label, between 0 and 9, but the goal here is not to classify these pictures like in the first challenge but to **reconstruct the original image before the compression**."
      ]
    },
    {
      "cell_type": "markdown",
      "metadata": {
        "id": "qNmWZUVkXFQe"
      },
      "source": [
        "❓ **Question: Visualizing handwritten digits in the latent space** ❓ \n",
        "\n",
        "Scatterplot the encoded data (only a small fraction of the encoded dataset for visibility purposes...)\n",
        "- Each point of the scatter plot  corresponds to an encoded image\n",
        "- Color the dots according to their respective labels (digit representation):\n",
        "    - for instance, all the \"4\"s should be represented by a color on this scatter plot...\n",
        "    - ...while the \"5\" should be represented by another color\n",
        "    - choose a set of [`qualitative colormaps`](https://matplotlib.org/stable/gallery/color/colormap_reference.html)\n",
        "\n",
        "What do you remark about this plot? "
      ]
    },
    {
      "cell_type": "code",
      "execution_count": 15,
      "metadata": {
        "tags": [
          "challengify"
        ],
        "colab": {
          "base_uri": "https://localhost:8080/"
        },
        "id": "V8zclSBdXFQe",
        "outputId": "1495b809-4986-401a-d1d5-c00912190486"
      },
      "outputs": [
        {
          "output_type": "execute_result",
          "data": {
            "text/plain": [
              "array([5, 0, 4, 1, 9, 2, 1, 3, 1, 4, 3, 5, 3, 6, 1, 7, 2, 8, 6, 9, 4, 0,\n",
              "       9, 1, 1, 2, 4, 3, 2, 7, 3, 8, 6, 9, 0, 5, 6, 0, 7, 6, 1, 8, 7, 9,\n",
              "       3, 9, 8, 5, 9, 3, 3, 0, 7, 4, 9, 8, 0, 9, 4, 1, 4, 4, 6, 0, 4, 5,\n",
              "       6, 1, 0, 0, 1, 7, 1, 6, 3, 0, 2, 1, 1, 7, 9, 0, 2, 6, 7, 8, 3, 9,\n",
              "       0, 4, 6, 7, 4, 6, 8, 0, 7, 8, 3, 1, 5, 7, 1, 7, 1, 1, 6, 3, 0, 2,\n",
              "       9, 3, 1, 1, 0, 4, 9, 2, 0, 0, 2, 0, 2, 7, 1, 8, 6, 4, 1, 6, 3, 4,\n",
              "       5, 9, 1, 3, 3, 8, 5, 4, 7, 7, 4, 2, 8, 5, 8, 6, 7, 3, 4, 6, 1, 9,\n",
              "       9, 6, 0, 3, 7, 2, 8, 2, 9, 4, 4, 6, 4, 9, 7, 0, 9, 2, 9, 5, 1, 5,\n",
              "       9, 1, 2, 3, 2, 3, 5, 9, 1, 7, 6, 2, 8, 2, 2, 5, 0, 7, 4, 9, 7, 8,\n",
              "       3, 2, 1, 1, 8, 3, 6, 1, 0, 3, 1, 0, 0, 1, 7, 2, 7, 3, 0, 4, 6, 5,\n",
              "       2, 6, 4, 7, 1, 8, 9, 9, 3, 0, 7, 1, 0, 2, 0, 3, 5, 4, 6, 5, 8, 6,\n",
              "       3, 7, 5, 8, 0, 9, 1, 0, 3, 1, 2, 2, 3, 3, 6, 4, 7, 5, 0, 6, 2, 7,\n",
              "       9, 8, 5, 9, 2, 1, 1, 4, 4, 5, 6, 4, 1, 2, 5, 3, 9, 3, 9, 0, 5, 9,\n",
              "       6, 5, 7, 4, 1, 3, 4, 0, 4, 8, 0, 4, 3, 6], dtype=uint8)"
            ]
          },
          "metadata": {},
          "execution_count": 15
        }
      ],
      "source": [
        "labels_train[:300]"
      ]
    },
    {
      "cell_type": "code",
      "source": [
        "import seaborn as sns\n",
        "plt.scatter(x = X_encoded[:300, 0], \n",
        "            y = X_encoded[:300, 1], \n",
        "            c = labels_train[:300], \n",
        "            cmap = 'Set1');"
      ],
      "metadata": {
        "colab": {
          "base_uri": "https://localhost:8080/",
          "height": 265
        },
        "id": "9q2VeCeZjC13",
        "outputId": "c8eec94e-18d4-4979-b253-abe4471eeece"
      },
      "execution_count": 16,
      "outputs": [
        {
          "output_type": "display_data",
          "data": {
            "text/plain": [
              "<Figure size 432x288 with 1 Axes>"
            ],
            "image/png": "[encoded data removed]"
          },
          "metadata": {
            "needs_background": "light"
          }
        }
      ]
    },
    {
      "cell_type": "markdown",
      "metadata": {
        "id": "11IlONUIXFQe"
      },
      "source": [
        "## (4) Application: Image denoising"
      ]
    },
    {
      "cell_type": "markdown",
      "metadata": {
        "id": "TkUJaLErXFQf"
      },
      "source": [
        "❓ **Questions: Creating some noise in the dataset** ❓ \n",
        "\n",
        "* Let's add some noise to the input data. \n",
        "* Run the following code\n",
        "* Plot some handwritten digits and their noisy versions"
      ]
    },
    {
      "cell_type": "code",
      "execution_count": 17,
      "metadata": {
        "id": "9Qd56eErXFQf"
      },
      "outputs": [],
      "source": [
        "import numpy as np\n",
        "\n",
        "noise_factor = 0.5\n",
        "\n",
        "X_train_noisy = X_train + noise_factor * np.random.normal(0., 1., size=X_train.shape)\n",
        "X_test_noisy = X_test + noise_factor * np.random.normal(0., 1., size=X_test.shape)"
      ]
    },
    {
      "cell_type": "code",
      "execution_count": 18,
      "metadata": {
        "tags": [
          "challengify"
        ],
        "colab": {
          "base_uri": "https://localhost:8080/",
          "height": 422
        },
        "id": "g5zQ2WmzXFQg",
        "outputId": "a081f010-a22e-4182-ea3d-90b0eedec5b4"
      },
      "outputs": [
        {
          "output_type": "display_data",
          "data": {
            "text/plain": [
              "<Figure size 288x144 with 2 Axes>"
            ],
            "image/png": "[encoded data removed]"
          },
          "metadata": {
            "needs_background": "light"
          }
        },
        {
          "output_type": "display_data",
          "data": {
            "text/plain": [
              "<Figure size 288x144 with 2 Axes>"
            ],
            "image/png": "[encoded data removed]"
          },
          "metadata": {
            "needs_background": "light"
          }
        },
        {
          "output_type": "display_data",
          "data": {
            "text/plain": [
              "<Figure size 288x144 with 2 Axes>"
            ],
            "image/png": "[encoded data removed]"
          },
          "metadata": {
            "needs_background": "light"
          }
        }
      ],
      "source": [
        "for i in range(3):\n",
        "    fig, (ax1, ax2) = plt.subplots(1, 2, figsize=(4,2))\n",
        "    ax1.imshow(X_train[i].reshape(28,28), cmap='Greys')\n",
        "    ax2.imshow(X_train_noisy[i].reshape(28,28), cmap='Greys')\n",
        "    plt.show()"
      ]
    },
    {
      "cell_type": "code",
      "source": [
        "encoder = build_encoder(2)\n",
        "decoder = build_decoder(2)\n",
        "autoencoder = build_autoencoder(encoder, decoder)\n",
        "compile_autoencoder(autoencoder)\n",
        "\n",
        "history_denoising = autoencoder.fit(X_train_noisy, X_train, \n",
        "                                    epochs = 20, \n",
        "                                    batch_size=32)"
      ],
      "metadata": {
        "colab": {
          "base_uri": "https://localhost:8080/"
        },
        "id": "mAoorwqxjHaU",
        "outputId": "a13d9c3b-6af4-46d9-a465-648a9646c9c3"
      },
      "execution_count": 19,
      "outputs": [
        {
          "output_type": "stream",
          "name": "stdout",
          "text": [
            "Epoch 1/20\n",
            "1875/1875 [==============================] - 30s 16ms/step - loss: 0.0616\n",
            "Epoch 2/20\n",
            "1875/1875 [==============================] - 30s 16ms/step - loss: 0.0554\n",
            "Epoch 3/20\n",
            "1875/1875 [==============================] - 31s 17ms/step - loss: 0.0542\n",
            "Epoch 4/20\n",
            "1875/1875 [==============================] - 31s 16ms/step - loss: 0.0536\n",
            "Epoch 5/20\n",
            "1875/1875 [==============================] - 31s 16ms/step - loss: 0.0533\n",
            "Epoch 6/20\n",
            "1875/1875 [==============================] - 30s 16ms/step - loss: 0.0530\n",
            "Epoch 7/20\n",
            "1875/1875 [==============================] - 31s 17ms/step - loss: 0.0528\n",
            "Epoch 8/20\n",
            "1875/1875 [==============================] - 32s 17ms/step - loss: 0.0527\n",
            "Epoch 9/20\n",
            "1875/1875 [==============================] - 31s 17ms/step - loss: 0.0525\n",
            "Epoch 10/20\n",
            "1875/1875 [==============================] - 31s 16ms/step - loss: 0.0524\n",
            "Epoch 11/20\n",
            "1875/1875 [==============================] - 31s 16ms/step - loss: 0.0523\n",
            "Epoch 12/20\n",
            "1875/1875 [==============================] - 32s 17ms/step - loss: 0.0522\n",
            "Epoch 13/20\n",
            "1875/1875 [==============================] - 31s 17ms/step - loss: 0.0521\n",
            "Epoch 14/20\n",
            "1875/1875 [==============================] - 31s 17ms/step - loss: 0.0520\n",
            "Epoch 15/20\n",
            "1875/1875 [==============================] - 31s 16ms/step - loss: 0.0520\n",
            "Epoch 16/20\n",
            "1875/1875 [==============================] - 32s 17ms/step - loss: 0.0519\n",
            "Epoch 17/20\n",
            "1875/1875 [==============================] - 30s 16ms/step - loss: 0.0519\n",
            "Epoch 18/20\n",
            "1875/1875 [==============================] - 32s 17ms/step - loss: 0.0518\n",
            "Epoch 19/20\n",
            "1875/1875 [==============================] - 32s 17ms/step - loss: 0.0518\n",
            "Epoch 20/20\n",
            "1875/1875 [==============================] - 32s 17ms/step - loss: 0.0517\n"
          ]
        }
      ]
    },
    {
      "cell_type": "code",
      "source": [
        "prediction = autoencoder.predict(X_test_noisy, verbose=1)\n",
        "\n",
        "for i in range(10):\n",
        "    fig, (ax1, ax2) = plt.subplots(1, 2, figsize=(4,2))\n",
        "    ax1.imshow(prediction[i].reshape(28,28), cmap='Greys')\n",
        "    ax2.imshow(X_test_noisy[i].reshape(28,28), cmap='Greys')\n",
        "    plt.show()"
      ],
      "metadata": {
        "colab": {
          "base_uri": "https://localhost:8080/",
          "height": 1000
        },
        "id": "A9kvHlgTjLJb",
        "outputId": "130a978d-080d-4d83-84b0-8ddf62b35d72"
      },
      "execution_count": 20,
      "outputs": [
        {
          "output_type": "stream",
          "name": "stdout",
          "text": [
            "313/313 [==============================] - 2s 7ms/step\n"
          ]
        },
        {
          "output_type": "display_data",
          "data": {
            "text/plain": [
              "<Figure size 288x144 with 2 Axes>"
            ],
            "image/png": "[encoded data removed]"
          },
          "metadata": {
            "needs_background": "light"
          }
        },
        {
          "output_type": "display_data",
          "data": {
            "text/plain": [
              "<Figure size 288x144 with 2 Axes>"
            ],
            "image/png": "[encoded data removed]"
          },
          "metadata": {
            "needs_background": "light"
          }
        },
        {
          "output_type": "display_data",
          "data": {
            "text/plain": [
              "<Figure size 288x144 with 2 Axes>"
            ],
            "image/png": "[encoded data removed]"
          },
          "metadata": {
            "needs_background": "light"
          }
        },
        {
          "output_type": "display_data",
          "data": {
            "text/plain": [
              "<Figure size 288x144 with 2 Axes>"
            ],
            "image/png": "[encoded data removed]"
          },
          "metadata": {
            "needs_background": "light"
          }
        },
        {
          "output_type": "display_data",
          "data": {
            "text/plain": [
              "<Figure size 288x144 with 2 Axes>"
            ],
            "image/png": "[encoded data removed]"
          },
          "metadata": {
            "needs_background": "light"
          }
        },
        {
          "output_type": "display_data",
          "data": {
            "text/plain": [
              "<Figure size 288x144 with 2 Axes>"
            ],
            "image/png": "[encoded data removed]"
          },
          "metadata": {
            "needs_background": "light"
          }
        },
        {
          "output_type": "display_data",
          "data": {
            "text/plain": [
              "<Figure size 288x144 with 2 Axes>"
            ],
            "image/png": "[encoded data removed]"
          },
          "metadata": {
            "needs_background": "light"
          }
        },
        {
          "output_type": "display_data",
          "data": {
            "text/plain": [
              "<Figure size 288x144 with 2 Axes>"
            ],
            "image/png": "[encoded data removed]"
          },
          "metadata": {
            "needs_background": "light"
          }
        },
        {
          "output_type": "display_data",
          "data": {
            "text/plain": [
              "<Figure size 288x144 with 2 Axes>"
            ],
            "image/png": "[encoded data removed]"
          },
          "metadata": {
            "needs_background": "light"
          }
        },
        {
          "output_type": "display_data",
          "data": {
            "text/plain": [
              "<Figure size 288x144 with 2 Axes>"
            ],
            "image/png": "[encoded data removed]"
          },
          "metadata": {
            "needs_background": "light"
          }
        }
      ]
    },
    {
      "cell_type": "markdown",
      "metadata": {
        "id": "50gJGpUWXFQg"
      },
      "source": [
        "❓ **Question: decoding the noisy pictures** ❓ \n",
        "\n",
        "* Reinitialize your autoencoder (with a latent space of 2) \n",
        "* Train it again, this time using the noisy train dataset instead of the normal train dataset\n",
        "    * *Keep `batch_size = 32` and `epochs = 5`*\n",
        "* What do you expect if you run the autoencoder on the noisy data instead of the original data in terms of performance?"
      ]
    },
    {
      "cell_type": "markdown",
      "metadata": {
        "id": "gNfWBw_aXFQh"
      },
      "source": [
        "❓ **Question: comparing the noisy test images with the denoised images** ❓ \n",
        "\n",
        "For some noisy test images, predict the denoised images and plot the results side by side..."
      ]
    },
    {
      "cell_type": "markdown",
      "metadata": {
        "id": "DPEdiM-pXFQh"
      },
      "source": [
        "❓ **Question: choosing the \"correct\" latent_dimension** ❓ \n",
        "\n",
        "Now, try to evaluate which **`latent_dimension`** is the most suitable in order to have **`the best image reconstruction preprocess`** $ \\Leftrightarrow $ How to remove as much noise as possible in the noisy dataset using the latent dimension?`"
      ]
    },
    {
      "cell_type": "code",
      "execution_count": 21,
      "metadata": {
        "colab": {
          "base_uri": "https://localhost:8080/"
        },
        "id": "1Db9s8rnXFQi",
        "outputId": "9390a9d2-824b-48fe-944d-7469cdf2e972"
      },
      "outputs": [
        {
          "output_type": "stream",
          "name": "stdout",
          "text": [
            " \n",
            "--------------------------------------------------------------------------------\n",
            "Running the autoencoder with latent_dimension = 2\n",
            "--------------------------------------------------------------------------------\n",
            "Epoch 1/20\n",
            "1875/1875 [==============================] - 29s 15ms/step - loss: 0.0596\n",
            "Epoch 2/20\n",
            "1875/1875 [==============================] - 29s 16ms/step - loss: 0.0538\n",
            "Epoch 3/20\n",
            "1875/1875 [==============================] - 30s 16ms/step - loss: 0.0528\n",
            "Epoch 4/20\n",
            "1875/1875 [==============================] - 30s 16ms/step - loss: 0.0524\n",
            "Epoch 5/20\n",
            "1875/1875 [==============================] - 29s 16ms/step - loss: 0.0521\n",
            "Epoch 6/20\n",
            "1875/1875 [==============================] - 30s 16ms/step - loss: 0.0518\n",
            "Epoch 7/20\n",
            "1875/1875 [==============================] - 30s 16ms/step - loss: 0.0517\n",
            "Epoch 8/20\n",
            "1875/1875 [==============================] - 30s 16ms/step - loss: 0.0515\n",
            "Epoch 9/20\n",
            "1875/1875 [==============================] - 29s 15ms/step - loss: 0.0514\n",
            "Epoch 10/20\n",
            "1875/1875 [==============================] - 29s 16ms/step - loss: 0.0512\n",
            "Epoch 11/20\n",
            "1875/1875 [==============================] - 30s 16ms/step - loss: 0.0510\n",
            "Epoch 12/20\n",
            "1875/1875 [==============================] - 31s 17ms/step - loss: 0.0508\n",
            "Epoch 13/20\n",
            "1875/1875 [==============================] - 30s 16ms/step - loss: 0.0506\n",
            "Epoch 14/20\n",
            "1875/1875 [==============================] - 30s 16ms/step - loss: 0.0505\n",
            "Epoch 15/20\n",
            "1875/1875 [==============================] - 30s 16ms/step - loss: 0.0504\n",
            "Epoch 16/20\n",
            "1875/1875 [==============================] - 30s 16ms/step - loss: 0.0503\n",
            "Epoch 17/20\n",
            "1875/1875 [==============================] - 30s 16ms/step - loss: 0.0502\n",
            "Epoch 18/20\n",
            "1875/1875 [==============================] - 31s 16ms/step - loss: 0.0501\n",
            "Epoch 19/20\n",
            "1875/1875 [==============================] - 30s 16ms/step - loss: 0.0500\n",
            "Epoch 20/20\n",
            "1875/1875 [==============================] - 32s 17ms/step - loss: 0.0500\n",
            "313/313 [==============================] - 2s 7ms/step - loss: 0.0500\n",
            " \n",
            "--------------------------------------------------------------------------------\n",
            "Running the autoencoder with latent_dimension = 5\n",
            "--------------------------------------------------------------------------------\n",
            "Epoch 1/20\n",
            "1875/1875 [==============================] - 29s 15ms/step - loss: 0.0510\n",
            "Epoch 2/20\n",
            "1875/1875 [==============================] - 29s 15ms/step - loss: 0.0407\n",
            "Epoch 3/20\n",
            "1875/1875 [==============================] - 30s 16ms/step - loss: 0.0391\n",
            "Epoch 4/20\n",
            "1875/1875 [==============================] - 33s 18ms/step - loss: 0.0385\n",
            "Epoch 5/20\n",
            "1875/1875 [==============================] - 32s 17ms/step - loss: 0.0381\n",
            "Epoch 6/20\n",
            "1875/1875 [==============================] - 31s 16ms/step - loss: 0.0377\n",
            "Epoch 7/20\n",
            "1875/1875 [==============================] - 31s 16ms/step - loss: 0.0372\n",
            "Epoch 8/20\n",
            "1875/1875 [==============================] - 32s 17ms/step - loss: 0.0368\n",
            "Epoch 9/20\n",
            "1875/1875 [==============================] - 33s 18ms/step - loss: 0.0365\n",
            "Epoch 10/20\n",
            "1875/1875 [==============================] - 33s 17ms/step - loss: 0.0362\n",
            "Epoch 11/20\n",
            "1875/1875 [==============================] - 32s 17ms/step - loss: 0.0361\n",
            "Epoch 12/20\n",
            "1875/1875 [==============================] - 34s 18ms/step - loss: 0.0359\n",
            "Epoch 13/20\n",
            "1875/1875 [==============================] - 33s 18ms/step - loss: 0.0358\n",
            "Epoch 14/20\n",
            "1875/1875 [==============================] - 33s 18ms/step - loss: 0.0357\n",
            "Epoch 15/20\n",
            "1875/1875 [==============================] - 33s 18ms/step - loss: 0.0356\n",
            "Epoch 16/20\n",
            "1875/1875 [==============================] - 34s 18ms/step - loss: 0.0355\n",
            "Epoch 17/20\n",
            "1875/1875 [==============================] - 32s 17ms/step - loss: 0.0354\n",
            "Epoch 18/20\n",
            "1875/1875 [==============================] - 32s 17ms/step - loss: 0.0353\n",
            "Epoch 19/20\n",
            "1875/1875 [==============================] - 34s 18ms/step - loss: 0.0352\n",
            "Epoch 20/20\n",
            "1875/1875 [==============================] - 31s 17ms/step - loss: 0.0351\n",
            "313/313 [==============================] - 2s 7ms/step - loss: 0.0350\n",
            " \n",
            "--------------------------------------------------------------------------------\n",
            "Running the autoencoder with latent_dimension = 8\n",
            "--------------------------------------------------------------------------------\n",
            "Epoch 1/20\n",
            "1875/1875 [==============================] - 29s 15ms/step - loss: 0.0463\n",
            "Epoch 2/20\n",
            "1875/1875 [==============================] - 29s 16ms/step - loss: 0.0325\n",
            "Epoch 3/20\n",
            "1875/1875 [==============================] - 31s 16ms/step - loss: 0.0304\n",
            "Epoch 4/20\n",
            "1875/1875 [==============================] - 30s 16ms/step - loss: 0.0296\n",
            "Epoch 5/20\n",
            "1875/1875 [==============================] - 31s 16ms/step - loss: 0.0291\n",
            "Epoch 6/20\n",
            "1875/1875 [==============================] - 32s 17ms/step - loss: 0.0288\n",
            "Epoch 7/20\n",
            "1875/1875 [==============================] - 33s 18ms/step - loss: 0.0285\n",
            "Epoch 8/20\n",
            "1875/1875 [==============================] - 32s 17ms/step - loss: 0.0284\n",
            "Epoch 9/20\n",
            "1875/1875 [==============================] - 31s 17ms/step - loss: 0.0282\n",
            "Epoch 10/20\n",
            "1875/1875 [==============================] - 30s 16ms/step - loss: 0.0281\n",
            "Epoch 11/20\n",
            "1875/1875 [==============================] - 32s 17ms/step - loss: 0.0280\n",
            "Epoch 12/20\n",
            "1875/1875 [==============================] - 30s 16ms/step - loss: 0.0279\n",
            "Epoch 13/20\n",
            "1875/1875 [==============================] - 30s 16ms/step - loss: 0.0278\n",
            "Epoch 14/20\n",
            "1875/1875 [==============================] - 31s 16ms/step - loss: 0.0277\n",
            "Epoch 15/20\n",
            "1875/1875 [==============================] - 36s 19ms/step - loss: 0.0276\n",
            "Epoch 16/20\n",
            "1875/1875 [==============================] - 32s 17ms/step - loss: 0.0275\n",
            "Epoch 17/20\n",
            "1875/1875 [==============================] - 36s 19ms/step - loss: 0.0275\n",
            "Epoch 18/20\n",
            "1875/1875 [==============================] - 37s 20ms/step - loss: 0.0274\n",
            "Epoch 19/20\n",
            "1875/1875 [==============================] - 31s 17ms/step - loss: 0.0273\n",
            "Epoch 20/20\n",
            "1875/1875 [==============================] - 31s 16ms/step - loss: 0.0272\n",
            "313/313 [==============================] - 2s 6ms/step - loss: 0.0267\n",
            " \n",
            "--------------------------------------------------------------------------------\n",
            "Running the autoencoder with latent_dimension = 11\n",
            "--------------------------------------------------------------------------------\n",
            "Epoch 1/20\n",
            "1875/1875 [==============================] - 30s 15ms/step - loss: 0.0438\n",
            "Epoch 2/20\n",
            "1875/1875 [==============================] - 30s 16ms/step - loss: 0.0299\n",
            "Epoch 3/20\n",
            "1875/1875 [==============================] - 31s 17ms/step - loss: 0.0274\n",
            "Epoch 4/20\n",
            "1875/1875 [==============================] - 29s 15ms/step - loss: 0.0264\n",
            "Epoch 5/20\n",
            "1875/1875 [==============================] - 29s 16ms/step - loss: 0.0258\n",
            "Epoch 6/20\n",
            "1875/1875 [==============================] - 30s 16ms/step - loss: 0.0253\n",
            "Epoch 7/20\n",
            "1875/1875 [==============================] - 29s 16ms/step - loss: 0.0249\n",
            "Epoch 8/20\n",
            "1875/1875 [==============================] - 29s 15ms/step - loss: 0.0245\n",
            "Epoch 9/20\n",
            "1875/1875 [==============================] - 29s 16ms/step - loss: 0.0243\n",
            "Epoch 10/20\n",
            "1875/1875 [==============================] - 30s 16ms/step - loss: 0.0240\n",
            "Epoch 11/20\n",
            "1875/1875 [==============================] - 29s 16ms/step - loss: 0.0238\n",
            "Epoch 12/20\n",
            "1875/1875 [==============================] - 30s 16ms/step - loss: 0.0236\n",
            "Epoch 13/20\n",
            "1875/1875 [==============================] - 30s 16ms/step - loss: 0.0235\n",
            "Epoch 14/20\n",
            "1875/1875 [==============================] - 30s 16ms/step - loss: 0.0233\n",
            "Epoch 15/20\n",
            "1875/1875 [==============================] - 29s 15ms/step - loss: 0.0232\n",
            "Epoch 16/20\n",
            "1875/1875 [==============================] - 29s 15ms/step - loss: 0.0231\n",
            "Epoch 17/20\n",
            "1875/1875 [==============================] - 29s 16ms/step - loss: 0.0230\n",
            "Epoch 18/20\n",
            "1875/1875 [==============================] - 30s 16ms/step - loss: 0.0230\n",
            "Epoch 19/20\n",
            "1875/1875 [==============================] - 30s 16ms/step - loss: 0.0229\n",
            "Epoch 20/20\n",
            "1875/1875 [==============================] - 29s 15ms/step - loss: 0.0228\n",
            "313/313 [==============================] - 2s 7ms/step - loss: 0.0224\n",
            " \n",
            "--------------------------------------------------------------------------------\n",
            "Running the autoencoder with latent_dimension = 14\n",
            "--------------------------------------------------------------------------------\n",
            "Epoch 1/20\n",
            "1875/1875 [==============================] - 30s 15ms/step - loss: 0.0441\n",
            "Epoch 2/20\n",
            "1875/1875 [==============================] - 30s 16ms/step - loss: 0.0287\n",
            "Epoch 3/20\n",
            "1875/1875 [==============================] - 29s 15ms/step - loss: 0.0258\n",
            "Epoch 4/20\n",
            "1875/1875 [==============================] - 28s 15ms/step - loss: 0.0240\n",
            "Epoch 5/20\n",
            "1875/1875 [==============================] - 29s 15ms/step - loss: 0.0230\n",
            "Epoch 6/20\n",
            "1875/1875 [==============================] - 29s 15ms/step - loss: 0.0224\n",
            "Epoch 7/20\n",
            "1875/1875 [==============================] - 30s 16ms/step - loss: 0.0219\n",
            "Epoch 8/20\n",
            "1875/1875 [==============================] - 29s 16ms/step - loss: 0.0216\n",
            "Epoch 9/20\n",
            "1875/1875 [==============================] - 29s 15ms/step - loss: 0.0213\n",
            "Epoch 10/20\n",
            "1875/1875 [==============================] - 29s 15ms/step - loss: 0.0211\n",
            "Epoch 11/20\n",
            "1875/1875 [==============================] - 30s 16ms/step - loss: 0.0209\n",
            "Epoch 12/20\n",
            "1875/1875 [==============================] - 29s 15ms/step - loss: 0.0208\n",
            "Epoch 13/20\n",
            "1875/1875 [==============================] - 29s 15ms/step - loss: 0.0206\n",
            "Epoch 14/20\n",
            "1875/1875 [==============================] - 29s 15ms/step - loss: 0.0205\n",
            "Epoch 15/20\n",
            "1875/1875 [==============================] - 30s 16ms/step - loss: 0.0204\n",
            "Epoch 16/20\n",
            "1875/1875 [==============================] - 29s 16ms/step - loss: 0.0203\n",
            "Epoch 17/20\n",
            "1875/1875 [==============================] - 29s 16ms/step - loss: 0.0202\n",
            "Epoch 18/20\n",
            "1875/1875 [==============================] - 29s 16ms/step - loss: 0.0201\n",
            "Epoch 19/20\n",
            "1875/1875 [==============================] - 30s 16ms/step - loss: 0.0201\n",
            "Epoch 20/20\n",
            "1875/1875 [==============================] - 29s 15ms/step - loss: 0.0200\n",
            "313/313 [==============================] - 3s 8ms/step - loss: 0.0199\n",
            " \n",
            "--------------------------------------------------------------------------------\n",
            "Running the autoencoder with latent_dimension = 17\n",
            "--------------------------------------------------------------------------------\n",
            "Epoch 1/20\n",
            "1875/1875 [==============================] - 29s 15ms/step - loss: 0.0389\n",
            "Epoch 2/20\n",
            "1875/1875 [==============================] - 29s 15ms/step - loss: 0.0243\n",
            "Epoch 3/20\n",
            "1875/1875 [==============================] - 30s 16ms/step - loss: 0.0220\n",
            "Epoch 4/20\n",
            "1875/1875 [==============================] - 29s 15ms/step - loss: 0.0209\n",
            "Epoch 5/20\n",
            "1875/1875 [==============================] - 29s 15ms/step - loss: 0.0202\n",
            "Epoch 6/20\n",
            "1875/1875 [==============================] - 29s 15ms/step - loss: 0.0197\n",
            "Epoch 7/20\n",
            "1875/1875 [==============================] - 30s 16ms/step - loss: 0.0193\n",
            "Epoch 8/20\n",
            "1875/1875 [==============================] - 30s 16ms/step - loss: 0.0190\n",
            "Epoch 9/20\n",
            "1875/1875 [==============================] - 30s 16ms/step - loss: 0.0188\n",
            "Epoch 10/20\n",
            "1875/1875 [==============================] - 29s 15ms/step - loss: 0.0186\n",
            "Epoch 11/20\n",
            "1875/1875 [==============================] - 30s 16ms/step - loss: 0.0184\n",
            "Epoch 12/20\n",
            "1875/1875 [==============================] - 29s 16ms/step - loss: 0.0183\n",
            "Epoch 13/20\n",
            "1875/1875 [==============================] - 30s 16ms/step - loss: 0.0181\n",
            "Epoch 14/20\n",
            "1875/1875 [==============================] - 29s 16ms/step - loss: 0.0180\n",
            "Epoch 15/20\n",
            "1875/1875 [==============================] - 31s 16ms/step - loss: 0.0179\n",
            "Epoch 16/20\n",
            "1875/1875 [==============================] - 30s 16ms/step - loss: 0.0179\n",
            "Epoch 17/20\n",
            "1875/1875 [==============================] - 30s 16ms/step - loss: 0.0178\n",
            "Epoch 18/20\n",
            "1875/1875 [==============================] - 30s 16ms/step - loss: 0.0177\n",
            "Epoch 19/20\n",
            "1875/1875 [==============================] - 31s 16ms/step - loss: 0.0177\n",
            "Epoch 20/20\n",
            "1875/1875 [==============================] - 30s 16ms/step - loss: 0.0176\n",
            "313/313 [==============================] - 2s 7ms/step - loss: 0.0172\n"
          ]
        }
      ],
      "source": [
        "latent_dimensions = list(range(2,20,3))\n",
        "\n",
        "test_errors = []\n",
        "for latent_dimension in latent_dimensions:\n",
        "    print(\" \")\n",
        "    print(\"-\"*80)\n",
        "    print(f\"Running the autoencoder with latent_dimension = {latent_dimension}\")\n",
        "    print(\"-\"*80)    \n",
        "    encoder = build_encoder(latent_dimension=latent_dimension)\n",
        "    decoder = build_decoder(latent_dimension=latent_dimension)\n",
        "    autoencoder = build_autoencoder(encoder, decoder)\n",
        "    compile_autoencoder(autoencoder)\n",
        "    autoencoder.fit(X_train, X_train, epochs=20, batch_size=32)\n",
        "    error = autoencoder.evaluate(X_test, X_test)\n",
        "    test_errors.append(error)\n"
      ]
    },
    {
      "cell_type": "code",
      "source": [
        "import matplotlib.pyplot as plt\n",
        "\n",
        "with plt.style.context('seaborn-deep'):\n",
        "    # figsize\n",
        "    plt.figure(figsize=(10,6))\n",
        "    # getting axes\n",
        "    ax = plt.gca()\n",
        "    # plotting\n",
        "    ax.plot(latent_dimensions, \n",
        "            test_errors,\n",
        "            color='black', \n",
        "            linestyle='dashed', \n",
        "            marker='o',\n",
        "            markerfacecolor='#947FFF', \n",
        "            markersize=10)\n",
        "    # more\n",
        "    ax.set_title('MSE Test Error vs. $Latent$ $Dimensions$', fontsize = 18)\n",
        "    ax.set_xlabel('Latent Dimension', fontsize = 14)\n",
        "    ax.set_ylabel('MSE Score', fontsize = 14)\n",
        "    ax.grid(axis=\"x\",linewidth=0.5)\n",
        "    ax.grid(axis=\"y\",linewidth=0.5)\n",
        "    \n",
        "    # focusing\n",
        "    ax.scatter(8,test_errors[2],c='#00ad8b',s=700)\n",
        "    \n",
        "    # annotate\n",
        "    ax.annotate(\"Elbow Method ?\", \n",
        "               xy=(8,test_errors[2]),\n",
        "                xytext=(8+0.25,test_errors[2]+0.0025), \n",
        "                arrowprops=dict(arrowstyle='-|>',\n",
        "                                fc=\"k\",\n",
        "                                ec=\"k\",\n",
        "                                lw=2),\n",
        "                bbox=dict(pad=5, facecolor=\"none\", edgecolor=\"none\")\n",
        "               ) \n",
        "    \n",
        "    \n",
        "    plt.show();\n"
      ],
      "metadata": {
        "colab": {
          "base_uri": "https://localhost:8080/",
          "height": 412
        },
        "id": "Qlf3OGKojWj4",
        "outputId": "bd93e229-b065-4268-d0bf-d23fc728afc5"
      },
      "execution_count": 22,
      "outputs": [
        {
          "output_type": "display_data",
          "data": {
            "text/plain": [
              "<Figure size 720x432 with 1 Axes>"
            ],
            "image/png": "[encoded data removed]"
          },
          "metadata": {
            "needs_background": "light"
          }
        }
      ]
    },
    {
      "cell_type": "markdown",
      "metadata": {
        "id": "0MteqZyTXFQi"
      },
      "source": [
        "🥡 <b><u>Conclusion</u></b>\n",
        "\n",
        "\n",
        "* It is obvious that:\n",
        "    * if you compress your pictures of size $ 28 \\times 28 $ into a 1D space, you will lose a ton of information. \n",
        "    * if you compress them into a $ 28 \\times 28 = 784$ -space, you are actually not compressing them\n",
        "    \n",
        "* We can still use this graph of **Loss vs. Latent dimensions** reading it from right to left to decide in which latent space it would be advisable to compress the pictures without losing to much information: `latent_space = 8` seems a sweat spot here using the Elbow Method."
      ]
    },
    {
      "cell_type": "markdown",
      "metadata": {
        "id": "wOFSmGpGXFQj"
      },
      "source": [
        "---\n",
        "\n",
        "🏁 **Congratulations** 🏁 \n",
        "\n",
        "1. Download this notebook from your `Google Drive` or directly from `Google Colab` \n",
        "2. Drag-and-drop it from your `Downloads` folder to your local `[GITHUB_USERNAME]/data-challenges/06-Deep-Learning/03-Convolutional-Neural-Networks/05-autoencoders`\n",
        "\n",
        "\n",
        "💾 Don't forget to push your code\n",
        "\n",
        "3. Follow the usual procedure on your terminal in the `06-Deep-Learning/03-Convolutional-Neural-Networks/05-autoencoders` folder:\n",
        "      * *git add cifar_classification.ipynb*\n",
        "      * *git commit -m \"I am the god of Transfer Learning\"*\n",
        "      * *git push origin master*\n",
        "\n",
        "*Hint*: To find where this Colab notebook has been saved, click on `File` $\\rightarrow$ `Locate in Drive`.\n",
        "\n",
        "😉 That was the last challenge of this module!"
      ]
    }
  ],
  "metadata": {
    "kernelspec": {
      "display_name": "Python 3",
      "language": "python",
      "name": "python3"
    },
    "colab": {
      "name": "autoencoders.ipynb",
      "provenance": [],
      "collapsed_sections": [],
      "include_colab_link": true
    }
  },
  "nbformat": 4,
  "nbformat_minor": 0
}